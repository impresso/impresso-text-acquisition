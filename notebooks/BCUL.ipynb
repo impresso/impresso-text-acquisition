{
 "cells": [
  {
   "cell_type": "code",
   "execution_count": 73,
   "metadata": {},
   "outputs": [
    {
     "name": "stdout",
     "output_type": "stream",
     "text": [
      "Total number of rows in Issues is:  381625\n"
     ]
    }
   ],
   "source": [
    "import mysql.connector\n",
    "import requests\n",
    "from json import loads\n",
    "connection = mysql.connector.connect(host='prd-bcul-mi3',\n",
    "                                     database='mediainfo',\n",
    "                                     user='bcul',\n",
    "                                     password='5#DfbC5u!egsa9Uup')\n",
    "\n",
    "sql_select_Query = \"select * from issues\"\n",
    "cursor = connection.cursor()\n",
    "cursor.execute(sql_select_Query)\n",
    "records = cursor.fetchall()\n",
    "print(\"Total number of rows in Issues is: \", cursor.rowcount)"
   ]
  },
  {
   "cell_type": "code",
   "execution_count": 107,
   "metadata": {},
   "outputs": [
    {
     "ename": "TypeError",
     "evalue": "write() argument must be str, not bytes",
     "output_type": "error",
     "traceback": [
      "\u001b[0;31m---------------------------------------------------------------------------\u001b[0m",
      "\u001b[0;31mTypeError\u001b[0m                                 Traceback (most recent call last)",
      "\u001b[0;32m<ipython-input-107-4f0301dd7c36>\u001b[0m in \u001b[0;36m<module>\u001b[0;34m\u001b[0m\n\u001b[1;32m      1\u001b[0m \u001b[0;32mimport\u001b[0m \u001b[0mpickle\u001b[0m\u001b[0;34m\u001b[0m\u001b[0;34m\u001b[0m\u001b[0m\n\u001b[1;32m      2\u001b[0m \u001b[0;32mwith\u001b[0m \u001b[0mopen\u001b[0m\u001b[0;34m(\u001b[0m\u001b[0;34m\"bcul_dump.pkl\"\u001b[0m\u001b[0;34m,\u001b[0m \u001b[0;34m\"w\"\u001b[0m\u001b[0;34m)\u001b[0m \u001b[0;32mas\u001b[0m \u001b[0mf\u001b[0m\u001b[0;34m:\u001b[0m\u001b[0;34m\u001b[0m\u001b[0;34m\u001b[0m\u001b[0m\n\u001b[0;32m----> 3\u001b[0;31m     \u001b[0mpickle\u001b[0m\u001b[0;34m.\u001b[0m\u001b[0mdump\u001b[0m\u001b[0;34m(\u001b[0m\u001b[0mrecords\u001b[0m\u001b[0;34m,\u001b[0m \u001b[0mf\u001b[0m\u001b[0;34m)\u001b[0m\u001b[0;34m\u001b[0m\u001b[0;34m\u001b[0m\u001b[0m\n\u001b[0m",
      "\u001b[0;31mTypeError\u001b[0m: write() argument must be str, not bytes"
     ]
    }
   ],
   "source": [
    "import pickle\n",
    "with open(\"bcul_dump.pkl\", \"w\") as f:\n",
    "    pickle.dump(records, f)"
   ]
  },
  {
   "cell_type": "code",
   "execution_count": 90,
   "metadata": {},
   "outputs": [],
   "source": [
    "import pandas as pd\n",
    "columns = [\"iss_id\", \"iss_default_page\", \"iss_numpages\", \"iss_date_added\", \"scanned_rtl\", \"content_rtl\", \n",
    "          \"pagination\", \"fs_path\", \"upload_id\", \"contentType\", \"imgRatio\", \"isDeleted\", \"bytes\", \"pixels\", \n",
    "          \"typ\", \"creator\", \"assignee\", \"title\", \"dsc\", \"ref\", \"isHome\", \"wfStatus\"]\n",
    "drop_cols = [\"creator\", \"assignee\", \"title\", \"dsc\", \"ref\", \"wfStatus\", \"scanned_rtl\", \"content_rtl\", \n",
    "             \"pagination\", \"bytes\", \"upload_id\", \"contentType\", \"isDeleted\", \"typ\", \"isHome\"]\n",
    "\n",
    "query_url = \"https://scriptorium.bcu-lausanne.ch/api/item/{}/meta\"\n",
    "df = pd.DataFrame(data=records, columns=columns).drop(columns=drop_cols)\n",
    "df['metadata_query'] = df.iss_id.apply(lambda x: query_url.format(x))"
   ]
  },
  {
   "cell_type": "code",
   "execution_count": 102,
   "metadata": {},
   "outputs": [],
   "source": [
    "from dask import bag as db"
   ]
  },
  {
   "cell_type": "code",
   "execution_count": 104,
   "metadata": {},
   "outputs": [
    {
     "data": {
      "text/plain": [
       "dask.bag<from_sequence, npartitions=101>"
      ]
     },
     "execution_count": 104,
     "metadata": {},
     "output_type": "execute_result"
    }
   ],
   "source": [
    "db.from_sequence(records)"
   ]
  },
  {
   "cell_type": "code",
   "execution_count": null,
   "metadata": {},
   "outputs": [],
   "source": [
    "dask."
   ]
  },
  {
   "cell_type": "code",
   "execution_count": 95,
   "metadata": {},
   "outputs": [],
   "source": [
    "\n",
    "\n",
    "def get_journal_name(url, iss_id):\n",
    "    r = requests.get(url)\n",
    "    if r.status_code != 200:\n",
    "        print(f\"Got status code {r.status_code} for {iss_id}\")\n",
    "        return None\n",
    "    else:\n",
    "        c = loads(r.content)\n",
    "        title = c['title']['values']\n",
    "        if len(title) == 1:\n",
    "            title = title[0].replace(\"<p>\", \"\").replace(\"</p>\", \"\")\n",
    "            return title\n",
    "        else:\n",
    "            print(f\"Got tiles {title} for {iss_id}\")\n",
    "            return None"
   ]
  },
  {
   "cell_type": "code",
   "execution_count": 96,
   "metadata": {},
   "outputs": [],
   "source": [
    "sample = df.sample(n=10)"
   ]
  },
  {
   "cell_type": "code",
   "execution_count": 97,
   "metadata": {},
   "outputs": [],
   "source": [
    "sample['journal'] = sample.pr(lambda r: get_journal_name(r.metadata_query, r.iss_id), axis=1)"
   ]
  },
  {
   "cell_type": "code",
   "execution_count": 98,
   "metadata": {},
   "outputs": [
    {
     "data": {
      "text/html": [
       "<div>\n",
       "<style scoped>\n",
       "    .dataframe tbody tr th:only-of-type {\n",
       "        vertical-align: middle;\n",
       "    }\n",
       "\n",
       "    .dataframe tbody tr th {\n",
       "        vertical-align: top;\n",
       "    }\n",
       "\n",
       "    .dataframe thead th {\n",
       "        text-align: right;\n",
       "    }\n",
       "</style>\n",
       "<table border=\"1\" class=\"dataframe\">\n",
       "  <thead>\n",
       "    <tr style=\"text-align: right;\">\n",
       "      <th></th>\n",
       "      <th>iss_id</th>\n",
       "      <th>iss_default_page</th>\n",
       "      <th>iss_numpages</th>\n",
       "      <th>iss_date_added</th>\n",
       "      <th>fs_path</th>\n",
       "      <th>imgRatio</th>\n",
       "      <th>pixels</th>\n",
       "      <th>metadata_query</th>\n",
       "      <th>journal</th>\n",
       "    </tr>\n",
       "  </thead>\n",
       "  <tbody>\n",
       "    <tr>\n",
       "      <th>264432</th>\n",
       "      <td>280309</td>\n",
       "      <td>0</td>\n",
       "      <td>8</td>\n",
       "      <td>2018-04-11 01:31:49</td>\n",
       "      <td>None</td>\n",
       "      <td>NaN</td>\n",
       "      <td>1.770000e+08</td>\n",
       "      <td>https://scriptorium.bcu-lausanne.ch/api/item/2...</td>\n",
       "      <td>Feuille d’avis du district de la Vallée</td>\n",
       "    </tr>\n",
       "    <tr>\n",
       "      <th>233946</th>\n",
       "      <td>247718</td>\n",
       "      <td>0</td>\n",
       "      <td>4</td>\n",
       "      <td>2017-10-02 20:10:08</td>\n",
       "      <td>None</td>\n",
       "      <td>NaN</td>\n",
       "      <td>9.235032e+07</td>\n",
       "      <td>https://scriptorium.bcu-lausanne.ch/api/item/2...</td>\n",
       "      <td>Feuille d'avis de Vevey et journal du district</td>\n",
       "    </tr>\n",
       "    <tr>\n",
       "      <th>208994</th>\n",
       "      <td>222176</td>\n",
       "      <td>0</td>\n",
       "      <td>16</td>\n",
       "      <td>2017-02-17 23:50:25</td>\n",
       "      <td>None</td>\n",
       "      <td>NaN</td>\n",
       "      <td>3.263955e+08</td>\n",
       "      <td>https://scriptorium.bcu-lausanne.ch/api/item/2...</td>\n",
       "      <td>Feuille d'avis de Vevey et des cercles de La T...</td>\n",
       "    </tr>\n",
       "    <tr>\n",
       "      <th>82580</th>\n",
       "      <td>93427</td>\n",
       "      <td>0</td>\n",
       "      <td>4</td>\n",
       "      <td>2015-09-17 02:51:21</td>\n",
       "      <td>mi3_storage/114/1867/12/14/93427</td>\n",
       "      <td>NaN</td>\n",
       "      <td>1.614276e+08</td>\n",
       "      <td>https://scriptorium.bcu-lausanne.ch/api/item/9...</td>\n",
       "      <td>L'Estafette</td>\n",
       "    </tr>\n",
       "    <tr>\n",
       "      <th>347157</th>\n",
       "      <td>364693</td>\n",
       "      <td>0</td>\n",
       "      <td>4</td>\n",
       "      <td>2019-02-24 20:36:28</td>\n",
       "      <td>None</td>\n",
       "      <td>NaN</td>\n",
       "      <td>7.482246e+07</td>\n",
       "      <td>https://scriptorium.bcu-lausanne.ch/api/item/3...</td>\n",
       "      <td>Journal d’Aubonne, feuille d’annonces : organe...</td>\n",
       "    </tr>\n",
       "    <tr>\n",
       "      <th>37432</th>\n",
       "      <td>48076</td>\n",
       "      <td>0</td>\n",
       "      <td>56</td>\n",
       "      <td>2016-01-12 02:21:20</td>\n",
       "      <td>mi3_storage/113/1960/04/21/48076</td>\n",
       "      <td>NaN</td>\n",
       "      <td>2.252399e+09</td>\n",
       "      <td>https://scriptorium.bcu-lausanne.ch/api/item/4...</td>\n",
       "      <td>Feuille d'avis de Lausanne</td>\n",
       "    </tr>\n",
       "    <tr>\n",
       "      <th>300928</th>\n",
       "      <td>317937</td>\n",
       "      <td>0</td>\n",
       "      <td>4</td>\n",
       "      <td>2018-10-31 19:09:23</td>\n",
       "      <td>None</td>\n",
       "      <td>NaN</td>\n",
       "      <td>9.161412e+07</td>\n",
       "      <td>https://scriptorium.bcu-lausanne.ch/api/item/3...</td>\n",
       "      <td>Journal d’Yverdon, Feuille d’Avis d’Yverdon et...</td>\n",
       "    </tr>\n",
       "    <tr>\n",
       "      <th>138727</th>\n",
       "      <td>149591</td>\n",
       "      <td>0</td>\n",
       "      <td>8</td>\n",
       "      <td>2016-01-08 23:05:37</td>\n",
       "      <td>mi3_storage/119/1939/12/19/149591</td>\n",
       "      <td>NaN</td>\n",
       "      <td>3.551484e+08</td>\n",
       "      <td>https://scriptorium.bcu-lausanne.ch/api/item/1...</td>\n",
       "      <td>La Revue</td>\n",
       "    </tr>\n",
       "    <tr>\n",
       "      <th>227493</th>\n",
       "      <td>240874</td>\n",
       "      <td>0</td>\n",
       "      <td>4</td>\n",
       "      <td>2017-09-29 01:50:25</td>\n",
       "      <td>None</td>\n",
       "      <td>NaN</td>\n",
       "      <td>8.108208e+07</td>\n",
       "      <td>https://scriptorium.bcu-lausanne.ch/api/item/2...</td>\n",
       "      <td>Courrier de Vevey, la Tour-de-Peilz et commune...</td>\n",
       "    </tr>\n",
       "    <tr>\n",
       "      <th>307217</th>\n",
       "      <td>324633</td>\n",
       "      <td>0</td>\n",
       "      <td>112</td>\n",
       "      <td>2018-12-11 03:33:11</td>\n",
       "      <td>None</td>\n",
       "      <td>NaN</td>\n",
       "      <td>1.146048e+09</td>\n",
       "      <td>https://scriptorium.bcu-lausanne.ch/api/item/3...</td>\n",
       "      <td>Radio TV - Je vois tout</td>\n",
       "    </tr>\n",
       "  </tbody>\n",
       "</table>\n",
       "</div>"
      ],
      "text/plain": [
       "        iss_id  iss_default_page  iss_numpages      iss_date_added  \\\n",
       "264432  280309                 0             8 2018-04-11 01:31:49   \n",
       "233946  247718                 0             4 2017-10-02 20:10:08   \n",
       "208994  222176                 0            16 2017-02-17 23:50:25   \n",
       "82580    93427                 0             4 2015-09-17 02:51:21   \n",
       "347157  364693                 0             4 2019-02-24 20:36:28   \n",
       "37432    48076                 0            56 2016-01-12 02:21:20   \n",
       "300928  317937                 0             4 2018-10-31 19:09:23   \n",
       "138727  149591                 0             8 2016-01-08 23:05:37   \n",
       "227493  240874                 0             4 2017-09-29 01:50:25   \n",
       "307217  324633                 0           112 2018-12-11 03:33:11   \n",
       "\n",
       "                                  fs_path  imgRatio        pixels  \\\n",
       "264432                               None       NaN  1.770000e+08   \n",
       "233946                               None       NaN  9.235032e+07   \n",
       "208994                               None       NaN  3.263955e+08   \n",
       "82580    mi3_storage/114/1867/12/14/93427       NaN  1.614276e+08   \n",
       "347157                               None       NaN  7.482246e+07   \n",
       "37432    mi3_storage/113/1960/04/21/48076       NaN  2.252399e+09   \n",
       "300928                               None       NaN  9.161412e+07   \n",
       "138727  mi3_storage/119/1939/12/19/149591       NaN  3.551484e+08   \n",
       "227493                               None       NaN  8.108208e+07   \n",
       "307217                               None       NaN  1.146048e+09   \n",
       "\n",
       "                                           metadata_query  \\\n",
       "264432  https://scriptorium.bcu-lausanne.ch/api/item/2...   \n",
       "233946  https://scriptorium.bcu-lausanne.ch/api/item/2...   \n",
       "208994  https://scriptorium.bcu-lausanne.ch/api/item/2...   \n",
       "82580   https://scriptorium.bcu-lausanne.ch/api/item/9...   \n",
       "347157  https://scriptorium.bcu-lausanne.ch/api/item/3...   \n",
       "37432   https://scriptorium.bcu-lausanne.ch/api/item/4...   \n",
       "300928  https://scriptorium.bcu-lausanne.ch/api/item/3...   \n",
       "138727  https://scriptorium.bcu-lausanne.ch/api/item/1...   \n",
       "227493  https://scriptorium.bcu-lausanne.ch/api/item/2...   \n",
       "307217  https://scriptorium.bcu-lausanne.ch/api/item/3...   \n",
       "\n",
       "                                                  journal  \n",
       "264432            Feuille d’avis du district de la Vallée  \n",
       "233946     Feuille d'avis de Vevey et journal du district  \n",
       "208994  Feuille d'avis de Vevey et des cercles de La T...  \n",
       "82580                                         L'Estafette  \n",
       "347157  Journal d’Aubonne, feuille d’annonces : organe...  \n",
       "37432                          Feuille d'avis de Lausanne  \n",
       "300928  Journal d’Yverdon, Feuille d’Avis d’Yverdon et...  \n",
       "138727                                           La Revue  \n",
       "227493  Courrier de Vevey, la Tour-de-Peilz et commune...  \n",
       "307217                            Radio TV - Je vois tout  "
      ]
     },
     "execution_count": 98,
     "metadata": {},
     "output_type": "execute_result"
    }
   ],
   "source": [
    "sample"
   ]
  },
  {
   "cell_type": "code",
   "execution_count": null,
   "metadata": {},
   "outputs": [],
   "source": []
  }
 ],
 "metadata": {
  "kernelspec": {
   "display_name": "Python (Impresso)",
   "language": "python",
   "name": "impresso"
  },
  "language_info": {
   "codemirror_mode": {
    "name": "ipython",
    "version": 3
   },
   "file_extension": ".py",
   "mimetype": "text/x-python",
   "name": "python",
   "nbconvert_exporter": "python",
   "pygments_lexer": "ipython3",
   "version": "3.7.6"
  }
 },
 "nbformat": 4,
 "nbformat_minor": 2
}
